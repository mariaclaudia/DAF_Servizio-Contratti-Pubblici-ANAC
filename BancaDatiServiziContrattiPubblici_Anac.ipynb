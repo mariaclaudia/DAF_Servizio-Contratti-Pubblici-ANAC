{
 "cells": [
  {
   "cell_type": "markdown",
   "metadata": {},
   "source": [
    "# Dati Anac + Banca dati Servizio Contratti Pubblici - SCP\n",
    "## Data processing\n",
    "\n",
    "Il risultante di questo notebook è un dataset che processa i dati provenienti dalla Banca dati Servizio Contratti Pubblici relativi ad un certo indice PA congiunti con i dati estratti dal db di ANAC.\n",
    "\n",
    "\n",
    "### Banca dati Servizio Contratti Pubblici - SCP\n",
    "\n",
    "Il Dataset contiene :\n",
    "\n",
    "- gli avvisi\n",
    "- i bandi\n",
    "- gli esiti di gara \n",
    "\n",
    "in formato aperto raccolti dalla Banca dati SCP - Servizio Contratti Pubblici gestita dalla Direzione Generale per la regolazione e i contratti pubblici del Ministero delle Infrastrutture e Trasporti. \n",
    "\n",
    "Il Servizio Contratti Pubblici (SCP) consente la pubblicazione on line di bandi di gara, avvisi sui risultati delle procedure di affidamento e programmi triennali di opere pubbliche. \n",
    "\n",
    "Maggiori informazioni sono disponibili sul sito www.serviziocontrattipubblici.it che consente alle stazioni appaltanti di pubblicare gli avvisi ed i bandi per lavori, servizi e forniture ed altre informazioni. \n",
    "\n",
    "Servizio Contratti Pubblici è una delle banche dati nazionali a titolarità del Ministero delle Infrastrutture e Trasporti elencate nell'allegato B del D.Lgs n.97/2016 (art. 9) che modifica l’obbligo di pubblicazione previsto nella normativa sulla trasparenza D.Lgs n.33/2013 (art. 9bis). I dati sono aggiornati quotidianamente.\n",
    "http://dati.mit.gov.it/catalog/dataset/scp\n",
    "\n",
    "https://www.serviziocontrattipubblici.it\n",
    "\n",
    "https://contrattipubblici.org"
   ]
  },
  {
   "cell_type": "markdown",
   "metadata": {},
   "source": [
    "## General"
   ]
  },
  {
   "cell_type": "code",
   "execution_count": null,
   "metadata": {},
   "outputs": [],
   "source": [
    "#IPython setting\n",
    "import pandas as pd\n",
    "import numpy as np\n",
    "import json \n",
    "import os\n",
    "import re\n",
    "import seaborn as sns\n",
    "import matplotlib as mpl \n",
    "import matplotlib.cm as cm \n",
    "import matplotlib.pyplot as plt \n",
    "import matplotlib.style as style\n",
    "import seaborn as sns \n",
    "%matplotlib inline \n",
    "\n",
    "from IPython.display import display, HTML\n",
    "from IPython.core.interactiveshell import InteractiveShell\n",
    "InteractiveShell.ast_node_interactivity = \"all\" #setta l'esecuzione di più statement in unica cella\n",
    "pd.set_option('display.max_colwidth', -1) \n",
    "pd.set_option('display.width', 5000) \n",
    "pd.set_option('display.max_columns', 60) \n",
    "\n",
    "# Set up formatting so larger numbers aren't displayed in scientific notation (h/t @thecapacity)\n",
    "pd.set_option('display.float_format', lambda x: '%.3f' % x)\n",
    "\n",
    "sns.set_context(\"notebook\")\n",
    "sns.set()\n",
    "sns.set_style(\"darkgrid\")\n",
    "sns.set_palette(sns.color_palette(\"Set2\", 10))\n",
    "style.use('fivethirtyeight')"
   ]
  },
  {
   "cell_type": "markdown",
   "metadata": {},
   "source": [
    "### Filtro su una determinata struttura \n",
    "\n",
    "### http://www.indicepa.gov.it\n",
    "\n",
    "[INDICE PA Comune di Torino](http://www.indicepa.gov.it/elenco-cod-fisc/n-elenco-cf.php?cod_amm=c_l219)\n",
    "\n",
    "**CITTA' DI TORINO - APPALTI LAVORI PUBBLICI - indice PA: 00514490010**"
   ]
  },
  {
   "cell_type": "code",
   "execution_count": null,
   "metadata": {},
   "outputs": [],
   "source": [
    "filtroCfStrutturaProponente=\"00514490010\""
   ]
  },
  {
   "cell_type": "markdown",
   "metadata": {},
   "source": [
    "## Dati ANAC"
   ]
  },
  {
   "cell_type": "code",
   "execution_count": null,
   "metadata": {},
   "outputs": [],
   "source": [
    "anac = pd.read_csv(\"data/anacDataset_postprocessed.tsv\", sep='\\t', low_memory=False)"
   ]
  },
  {
   "cell_type": "code",
   "execution_count": null,
   "metadata": {},
   "outputs": [],
   "source": [
    "list(anac)"
   ]
  },
  {
   "cell_type": "code",
   "execution_count": null,
   "metadata": {},
   "outputs": [],
   "source": [
    "anac.oggetto.value_counts()"
   ]
  },
  {
   "cell_type": "code",
   "execution_count": null,
   "metadata": {},
   "outputs": [],
   "source": [
    "anac.denominazionePrimoaggiudicatario.value_counts()"
   ]
  },
  {
   "cell_type": "code",
   "execution_count": null,
   "metadata": {},
   "outputs": [],
   "source": [
    "anac.denominazioneStrutturaProponente.value_counts()"
   ]
  },
  {
   "cell_type": "code",
   "execution_count": null,
   "metadata": {},
   "outputs": [],
   "source": [
    "anac.jsonPartecipanti"
   ]
  },
  {
   "cell_type": "code",
   "execution_count": null,
   "metadata": {},
   "outputs": [],
   "source": [
    "#seziono su stazione appaltante di torino\n",
    "anac_to = anac[anac.cfStrutturaProponente==filtroCfStrutturaProponente]"
   ]
  },
  {
   "cell_type": "code",
   "execution_count": null,
   "metadata": {},
   "outputs": [],
   "source": [
    "anac_to.head(3)"
   ]
  },
  {
   "cell_type": "markdown",
   "metadata": {},
   "source": [
    "# Dati SCP\n"
   ]
  },
  {
   "cell_type": "code",
   "execution_count": null,
   "metadata": {},
   "outputs": [],
   "source": [
    "avvisi = pd.read_csv(\"data/ServizioContrattiPubblici/scpavvisi.csv\")\n",
    "bandi = pd.read_csv(\"data/ServizioContrattiPubblici/scpbandi.csv\")\n",
    "esiti = pd.read_csv(\"data/ServizioContrattiPubblici/scpesiti.csv\")"
   ]
  },
  {
   "cell_type": "code",
   "execution_count": null,
   "metadata": {
    "scrolled": true
   },
   "outputs": [],
   "source": [
    "##ex: '\"2009-11-19T23:00:00.000Z\"'\n",
    "d_format = '%Y-%m-%dT%H:%M:%S.%f'"
   ]
  },
  {
   "cell_type": "code",
   "execution_count": null,
   "metadata": {},
   "outputs": [],
   "source": [
    "avvisi_data_labels = [\"data_pubb_esito_scp\",\"data_pubb_esito_guue\", \"data_pubb_guri\", \"data_pubb_albo\", 'data_agg_def',\"termine_pres_dom_off\", 'data_pres_fine']\n",
    "bandi_data_labels = [\"data_pubb_bando_scp\",\"data_pubb_guue\", \"data_pubb_guri\", \"data_pubb_albo\", \"termine_pres_dom_off\"]\n",
    "esito_data_labels = [\"data_pubb_esito_scp\",\"data_pubb_esito_guue\",\"data_pubb_guri\",\"data_pubb_albo\",\"data_agg_def\", \"data_pres_fine\", \"termine_pres_dom_off\"]"
   ]
  },
  {
   "cell_type": "markdown",
   "metadata": {},
   "source": [
    "### Preprocessing fix malformatted fields and Data"
   ]
  },
  {
   "cell_type": "code",
   "execution_count": null,
   "metadata": {
    "scrolled": true
   },
   "outputs": [],
   "source": [
    "#Molti campi hanno il \"\", tipo codice_fiscale_stazione_appaltante o le varie date\n",
    "def cleanDoubleQuotes(x):\n",
    "    # if x is a string,\n",
    "    if type(x) is str:\n",
    "        last = x.replace('\"', '')\n",
    "        return last\n",
    "    else:\n",
    "        return\n",
    "\n",
    "avvisi= avvisi.applymap(cleanDoubleQuotes)\n",
    "bandi = bandi.applymap(cleanDoubleQuotes)\n",
    "esiti = esiti.applymap(cleanDoubleQuotes)"
   ]
  },
  {
   "cell_type": "code",
   "execution_count": null,
   "metadata": {},
   "outputs": [],
   "source": [
    "d_format = '%Y-%m-%dT%H:%M:%S.%f'\n",
    "#If ‘coerce’, then invalid parsing will be set as NaN\n",
    "for l in avvisi_data_labels:\n",
    "    avvisi[l]= pd.to_datetime(avvisi[l], format=d_format, errors='coerce')\n",
    "    avvisi[l]= avvisi[l].dt.date\n",
    "#If ‘coerce’, then invalid parsing will be set as NaN\n",
    "for l in bandi_data_labels:\n",
    "    bandi[l]= pd.to_datetime(bandi[l], format=d_format, errors='coerce')\n",
    "    bandi[l]= bandi[l].dt.date\n",
    "#If ‘coerce’, then invalid parsing will be set as NaN\n",
    "for l in esito_data_labels:\n",
    "    esiti[l]= pd.to_datetime(esiti[l], format=d_format, errors='coerce')    \n",
    "    esiti[l]= esiti[l].dt.date"
   ]
  },
  {
   "cell_type": "code",
   "execution_count": null,
   "metadata": {},
   "outputs": [],
   "source": [
    "bandi.cpv.isnull().sum()"
   ]
  },
  {
   "cell_type": "code",
   "execution_count": null,
   "metadata": {},
   "outputs": [],
   "source": [
    "len(avvisi)\n",
    "len(bandi)\n",
    "len(esiti)"
   ]
  },
  {
   "cell_type": "code",
   "execution_count": null,
   "metadata": {},
   "outputs": [],
   "source": [
    "avvisi.to_csv(\"data/ServizioContrattiPubblici/processed/avvisi.csv\",index=False)"
   ]
  },
  {
   "cell_type": "code",
   "execution_count": null,
   "metadata": {},
   "outputs": [],
   "source": [
    "esiti.to_csv(\"data/ServizioContrattiPubblici/processed/esiti.csv\",index=False)"
   ]
  },
  {
   "cell_type": "code",
   "execution_count": null,
   "metadata": {},
   "outputs": [],
   "source": [
    "bandi.to_csv(\"data/ServizioContrattiPubblici/processed/bandi.csv\",index=False)"
   ]
  },
  {
   "cell_type": "markdown",
   "metadata": {},
   "source": [
    "### Filtro dataset su valore impostato "
   ]
  },
  {
   "cell_type": "code",
   "execution_count": null,
   "metadata": {},
   "outputs": [],
   "source": [
    "avvisi_to = avvisi[avvisi.codice_fiscale_stazione_appaltante==filtroCfStrutturaProponente]\n",
    "bandi_to = bandi[bandi.codice_fiscale_stazione_appaltante==filtroCfStrutturaProponente]\n",
    "esiti_to = esiti[esiti.codice_fiscale_stazione_appaltante==filtroCfStrutturaProponente]"
   ]
  },
  {
   "cell_type": "code",
   "execution_count": null,
   "metadata": {},
   "outputs": [],
   "source": [
    "len(avvisi_to)\n",
    "len(bandi_to)\n",
    "len(esiti_to)\n",
    "esiti_to.cig.isnull().sum()"
   ]
  },
  {
   "cell_type": "code",
   "execution_count": null,
   "metadata": {},
   "outputs": [],
   "source": [
    "#bandi per anno\n",
    "#bandi_to.data_pubb_albo.dt.year.value_counts()"
   ]
  },
  {
   "cell_type": "code",
   "execution_count": null,
   "metadata": {},
   "outputs": [],
   "source": [
    "#dire che si è cercato agganci con opencup ma ci sono troppo record senza cup\n",
    "bandi_to.cup.isnull().sum()"
   ]
  },
  {
   "cell_type": "code",
   "execution_count": null,
   "metadata": {},
   "outputs": [],
   "source": [
    "bandi_esiti_to = pd.merge(bandi_to, esiti_to, on='cig', how='left')"
   ]
  },
  {
   "cell_type": "code",
   "execution_count": null,
   "metadata": {},
   "outputs": [],
   "source": [
    "bandi_esiti_to.shape"
   ]
  },
  {
   "cell_type": "code",
   "execution_count": null,
   "metadata": {},
   "outputs": [],
   "source": [
    "z_bandi_esiti_to = pd.merge(esiti_to, bandi_to, on='cig', how='left')\n",
    "z_bandi_esiti_to.shape"
   ]
  },
  {
   "cell_type": "markdown",
   "metadata": {},
   "source": [
    "## JOIN ANAC e ESITI\n",
    "\n",
    "In questo caso voglio estratte un csv finale dato da tutti gli esiti di gara presenti per la PA scelta e gli eventuali dati presenti per i CIG elencati provenienti dal dataset di ANAC"
   ]
  },
  {
   "cell_type": "code",
   "execution_count": null,
   "metadata": {},
   "outputs": [],
   "source": [
    "#bandi_anac_TO = pd.merge(bandi_to,anac_to, on='cig', how='left')"
   ]
  },
  {
   "cell_type": "code",
   "execution_count": null,
   "metadata": {},
   "outputs": [],
   "source": [
    "esiti_anac_TO = pd.merge(esiti_to,anac_to, on='cig', how='left')\n",
    "len(esiti_anac_TO)\n",
    "len(esiti_to)"
   ]
  },
  {
   "cell_type": "code",
   "execution_count": null,
   "metadata": {},
   "outputs": [],
   "source": [
    "#esiti_anac_TO.dtypes\n",
    "esiti_anac_TO.jsonPartecipanti.isnull().sum()"
   ]
  },
  {
   "cell_type": "code",
   "execution_count": null,
   "metadata": {},
   "outputs": [],
   "source": [
    "esiti_anac_TO.dtypes"
   ]
  },
  {
   "cell_type": "code",
   "execution_count": null,
   "metadata": {},
   "outputs": [],
   "source": [
    "esiti_anac_TO.denominazione_stazione_appaltante.value_counts()"
   ]
  },
  {
   "cell_type": "code",
   "execution_count": null,
   "metadata": {},
   "outputs": [],
   "source": [
    "esiti_anac_TO.luogo_esecuzione.value_counts()"
   ]
  },
  {
   "cell_type": "code",
   "execution_count": null,
   "metadata": {},
   "outputs": [],
   "source": [
    "esiti_anac_TO.tipo_evento.value_counts()"
   ]
  },
  {
   "cell_type": "code",
   "execution_count": null,
   "metadata": {},
   "outputs": [],
   "source": [
    "esiti_anac_TO.tipo_bando.value_counts()"
   ]
  },
  {
   "cell_type": "code",
   "execution_count": null,
   "metadata": {},
   "outputs": [],
   "source": [
    "esiti_anac_TO.tipo_procedura.value_counts()"
   ]
  },
  {
   "cell_type": "code",
   "execution_count": null,
   "metadata": {},
   "outputs": [],
   "source": [
    "esiti_anac_TO.categoria.value_counts()"
   ]
  },
  {
   "cell_type": "code",
   "execution_count": null,
   "metadata": {},
   "outputs": [],
   "source": [
    "esiti_anac_TO.criterio_aggiudicazione.value_counts()"
   ]
  },
  {
   "cell_type": "code",
   "execution_count": null,
   "metadata": {},
   "outputs": [],
   "source": [
    "esiti_anac_TO.tipo_settore.value_counts()"
   ]
  },
  {
   "cell_type": "code",
   "execution_count": null,
   "metadata": {},
   "outputs": [],
   "source": [
    "esiti_anac_TO.sceltaContraente.value_counts()"
   ]
  },
  {
   "cell_type": "code",
   "execution_count": null,
   "metadata": {},
   "outputs": [],
   "source": [
    "esiti_anac_TO.to_csv(\"Esiti_anac_\"+filtroCfStrutturaProponente+\".csv\", index=False, sep=\";\")"
   ]
  },
  {
   "cell_type": "markdown",
   "metadata": {},
   "source": [
    "## EDA"
   ]
  },
  {
   "cell_type": "code",
   "execution_count": null,
   "metadata": {},
   "outputs": [],
   "source": [
    "ax = sns.countplot(x=esiti_anac_TO.data_pubb_albo.dt.year, data=esiti_anac_TO)\n",
    "ax.set_title(\"Numero di esiti per anno (anno pubblicazione albo)\");\n",
    "ax.set_ylabel(\"Numero di esiti\");\n",
    "ax.set_xlabel(\"Anno\");"
   ]
  },
  {
   "cell_type": "code",
   "execution_count": null,
   "metadata": {},
   "outputs": [],
   "source": [
    "#bandi per tipologia di intervento\n",
    "ax = sns.countplot(x=esiti_anac_TO.data_pubb_albo.dt.year, data=esiti_anac_TO,  hue=esiti_anac_TO.categoria)\n",
    "ax.set_title(\"Esiti per anno e tipologia di intervento\");\n",
    "ax.set_ylabel(\"Numero di esiti\");\n",
    "ax.set_xlabel(\"Anno\");"
   ]
  },
  {
   "cell_type": "code",
   "execution_count": null,
   "metadata": {},
   "outputs": [],
   "source": [
    "#band per fascia di importo\n",
    "#bandi per anno: numero e importo\n",
    "#Numeri Bandi di gara per tipologia: \n",
    "#Importi Bandi di gara per tipologia:"
   ]
  },
  {
   "cell_type": "markdown",
   "metadata": {},
   "source": [
    "### OpenCUP\n",
    "\n",
    "I record ai quali è stato assegnato un cup sono molto pochi, non ha quindi rilevanza nello stato attuale il join con il dataset OPENCUP"
   ]
  },
  {
   "cell_type": "code",
   "execution_count": null,
   "metadata": {},
   "outputs": [],
   "source": [
    "cup = pd.read_csv(\"data/cup/AREA_NORD_EST_CSV.csv\", sep='|', header=0, error_bad_lines=False)\n",
    "#cup = pd.read_csv(\"data/cup/AREA_NORD_EST_CSV.csv\", sep='|')\n",
    "cup.shape()"
   ]
  }
 ],
 "metadata": {
  "kernelspec": {
   "display_name": "Python [conda env:mappa]",
   "language": "python",
   "name": "conda-env-mappa-py"
  },
  "language_info": {
   "codemirror_mode": {
    "name": "ipython",
    "version": 3
   },
   "file_extension": ".py",
   "mimetype": "text/x-python",
   "name": "python",
   "nbconvert_exporter": "python",
   "pygments_lexer": "ipython3",
   "version": "3.5.5"
  }
 },
 "nbformat": 4,
 "nbformat_minor": 2
}
